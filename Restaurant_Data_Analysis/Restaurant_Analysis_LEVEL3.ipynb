{
 "cells": [
  {
   "cell_type": "markdown",
   "id": "bbbb8781-2c66-4b18-961b-7e623ddc1b18",
   "metadata": {},
   "source": [
    "# LEVEL 3 :"
   ]
  },
  {
   "cell_type": "markdown",
   "id": "2c674635-adc0-42eb-93db-190ec762f46d",
   "metadata": {},
   "source": [
    "## TASK 1 : Restaurant Reviews"
   ]
  },
  {
   "cell_type": "markdown",
   "id": "45e316cf-2720-48d6-9ea0-e47031838776",
   "metadata": {},
   "source": [
    "1. Analyze the review text to find common positive and negative keywords.\n",
    "\n",
    "2. Calculate the average length of reviews.\n",
    "\n",
    "3. Explore whether longer reviews are associated with higher or lower ratings.\n",
    "\n",
    "This helps us understand customer sentiment — what happy vs unhappy customers write, and whether long reviews indicate stronger opinions."
   ]
  },
  {
   "cell_type": "code",
   "execution_count": 1,
   "id": "45ea0b48-a64b-4027-84a0-29f14f88351c",
   "metadata": {},
   "outputs": [],
   "source": [
    "import warnings \n",
    "warnings.filterwarnings(\"ignore\")"
   ]
  },
  {
   "cell_type": "code",
   "execution_count": 2,
   "id": "5c5c4497-2866-4333-ae54-0eb85f063795",
   "metadata": {},
   "outputs": [],
   "source": [
    "import pandas as pd\n",
    "import matplotlib.pyplot as plt\n",
    "from wordcloud import WordCloud\n",
    "import seaborn as sns\n",
    "import re"
   ]
  },
  {
   "cell_type": "markdown",
   "id": "b96d6094-84e4-4701-bf43-ec07dd8f0ab9",
   "metadata": {},
   "source": [
    "* import re — the regular expressions module.\n",
    "\n",
    "* Why: robust text cleaning (remove punctuation, digits, collapse spaces).\n",
    "\n",
    "* from collections import Counter — imports Counter, a handy frequency counter for lists.\n",
    "\n",
    "* Why: fast, memory-efficient word frequency counting and most_common() helper.\n",
    "\n",
    "* from textblob import TextBlob — imports TextBlob, a simple NLP library for sentiment analysis (polarity).\n",
    "\n",
    "* Why: easy per-word/per-sentence polarity scoring without complex models."
   ]
  },
  {
   "cell_type": "code",
   "execution_count": 3,
   "id": "af0fa423-5a99-4c6f-900c-880b8607419d",
   "metadata": {},
   "outputs": [],
   "source": [
    "# Load and clean the dataset.\n",
    "\n",
    "df = pd.read_csv(\"Data Analyst_cognifyz.csv\")\n",
    "df.columns = df.columns.str.strip().str.lower()"
   ]
  },
  {
   "cell_type": "markdown",
   "id": "11ca783b-dde7-4b25-bb3a-49a4bdb89263",
   "metadata": {},
   "source": [
    "* df.columns — accesses column names (an Index).\n",
    "\n",
    ".str.strip() — removes leading/trailing whitespace from each column name.\n",
    "\n",
    "* Why: avoids mismatches like \" review text\" vs \"review text\".\n",
    "\n",
    ".str.lower() — converts column names to lowercase.\n",
    "\n",
    "* Why: normalizes variations like \"Review Text\" and \"review text\" so code can find the column reliably."
   ]
  },
  {
   "cell_type": "code",
   "execution_count": 4,
   "id": "c9cd9e74-1120-44dd-9238-45ddf9888111",
   "metadata": {},
   "outputs": [
    {
     "name": "stdout",
     "output_type": "stream",
     "text": [
      "Index(['restaurant id', 'restaurant name', 'country code', 'city', 'address',\n",
      "       'locality', 'locality verbose', 'longitude', 'latitude', 'cuisines',\n",
      "       'average cost for two', 'currency', 'has table booking',\n",
      "       'has online delivery', 'is delivering now', 'switch to order menu',\n",
      "       'price range', 'aggregate rating', 'rating color', 'rating text',\n",
      "       'votes'],\n",
      "      dtype='object')\n"
     ]
    }
   ],
   "source": [
    "print(df.columns)"
   ]
  },
  {
   "cell_type": "code",
   "execution_count": 6,
   "id": "cc024446-ee5e-4d44-b9b3-d8f12df0a94a",
   "metadata": {},
   "outputs": [],
   "source": [
    "# Pick the reviews column: prefer 'review text', fallback to 'rating text'.\n",
    "\n",
    "if 'review text' in df.columns:\n",
    "    review_col = 'review text'\n",
    "elif 'rating text' in df.columns:\n",
    "    review_col = 'rating text'\n",
    "else:\n",
    "    raise KeyError(\"No 'review text' or 'rating text' column found. Please provide one of these.\")"
   ]
  },
  {
   "cell_type": "markdown",
   "id": "41b6b4df-d059-495a-b616-01be32dee3c6",
   "metadata": {},
   "source": [
    "if 'review text' in df.columns: checks for the exact normalized column name.\n",
    "\n",
    "* Why: earlier you said the dataset didn’t have a reviews column but does have a rating-text-like column. This code chooses review text if present.\n",
    "\n",
    "elif 'rating text' in df.columns: — fallback: use rating text if review text absent.\n",
    "\n",
    "* Why: the user said rating text contains strings like \"excellent\", \"good\". We accept either.\n",
    "\n",
    "raise KeyError(...) — stops execution with a clear error if neither column exists.\n",
    "\n",
    "* Why: fail fast with a helpful message, so you can fix the column name or provide the right file."
   ]
  },
  {
   "cell_type": "code",
   "execution_count": 7,
   "id": "0f3f26ee-ba6d-462e-a42d-5145ce575ab7",
   "metadata": {},
   "outputs": [],
   "source": [
    "#Create a safe text column (fill missing and ensure strings).\n",
    "\n",
    "df['raw_review'] = df[review_col].fillna('').astype(str)"
   ]
  },
  {
   "cell_type": "markdown",
   "id": "796ebfb3-ad3c-4c5b-a254-dc912efc04a4",
   "metadata": {},
   "source": [
    "* df[review_col] — selects the column identified previously.\n",
    "\n",
    "* .fillna('') — replaces NaN (missing values) with empty strings ''.\n",
    "\n",
    "* Why: avoids errors when applying string functions later.\n",
    "\n",
    "* .astype(str) — ensures every value is a Python string object.\n",
    "\n",
    "* Why: some cells might be numbers or other types; converting to string guarantees consistent operations.\n",
    "\n",
    "* df['raw_review'] = ... — saves the cleaned string column as raw_review.\n",
    "\n",
    "* Why: keep original data untouched and work on a derived column."
   ]
  },
  {
   "cell_type": "code",
   "execution_count": 8,
   "id": "937423bf-6cab-4a0c-bf1c-fbb24e953766",
   "metadata": {},
   "outputs": [],
   "source": [
    "# Cleaning function: lowercase, remove non-letters, collapse spaces.\n",
    "\n",
    "def clean_text(text):\n",
    "    text = text.lower()                          # lowercase for consistency\n",
    "    text = re.sub(r'[^a-z\\s]', ' ', text)        # remove digits/punctuations, keep spaces\n",
    "    text = re.sub(r'\\s+', ' ', text).strip()     # collapse multiple spaces and trim\n",
    "    return text"
   ]
  },
  {
   "cell_type": "markdown",
   "id": "39d52423-f9f5-40e2-8f09-bceac6f35b87",
   "metadata": {},
   "source": [
    "* This is a small, explicit text-cleaning pipeline — each line:\n",
    "\n",
    "1 . text.lower() :\n",
    "\n",
    "* Converts text to lowercase.\n",
    "\n",
    "* Why: \"Excellent\" and \"excellent\" should count the same.\n",
    "\n",
    "2 . re.sub(r'[^a-z\\s]', ' ', text)\n",
    "\n",
    "* re.sub(pattern, repl, text) replaces matches of pattern with repl.\n",
    "\n",
    "* Pattern r'[^a-z\\s]' = any character that is not a lowercase letter a-z or whitespace \\s.\n",
    "\n",
    "* So it replaces punctuation, digits, emojis, etc., with a space.\n",
    "\n",
    "* Why: we want only clean words; punctuation can split tokens unpredictably.\n",
    "\n",
    "3 . re.sub(r'\\s+', ' ', text).strip()\n",
    "\n",
    "* r'\\s+' matches one or more whitespace characters; replace with a single space.\n",
    "\n",
    "* .strip() removes leading/trailing spaces.\n",
    "\n",
    "* Why: collapse sequences of spaces into one and trim edges — neat tokens.\n",
    "\n",
    "4 . return text — returns the cleaned string.\n",
    "\n",
    "* Why make a function? Reuse, readability, and to apply it to the entire column succinctly."
   ]
  },
  {
   "cell_type": "code",
   "execution_count": 9,
   "id": "feac2558-e057-416b-8da4-e14bf2c5b5f3",
   "metadata": {},
   "outputs": [],
   "source": [
    "# Apply cleaning and tokenize into words.\n",
    "\n",
    "df['clean_review'] = df['raw_review'].apply(clean_text)\n",
    "df['tokens'] = df['clean_review'].apply(lambda t: t.split() if t else [])"
   ]
  },
  {
   "cell_type": "markdown",
   "id": "411fccde-9de8-44ad-b87e-83e706ee7b63",
   "metadata": {},
   "source": [
    "1 . df['raw_review'].apply(clean_text) — applies the clean_text function to each cell.\n",
    "\n",
    "* Why: vectorized-style apply over rows; produces new cleaned string column clean_review.\n",
    "\n",
    "2 . df['clean_review'].apply(lambda t: t.split() if t else [])\n",
    "\n",
    "* t.split() splits the cleaned string into a list of words (tokens) on whitespace.\n",
    "\n",
    "* if t else [] ensures empty strings become empty lists [], not [''].\n",
    "\n",
    "* Why: token lists are handy for counting words and computing review length.\n",
    "\n",
    "Result:\n",
    "\n",
    "3 . df['tokens'] is a column of lists (each row -> list of words in that review)."
   ]
  },
  {
   "cell_type": "code",
   "execution_count": 11,
   "id": "31265897-ce8d-418f-83af-63aa9d9d7f9c",
   "metadata": {},
   "outputs": [],
   "source": [
    "from collections import Counter"
   ]
  },
  {
   "cell_type": "code",
   "execution_count": 12,
   "id": "c92d2339-432f-4b04-addc-8b50fd934528",
   "metadata": {},
   "outputs": [],
   "source": [
    "# Count word frequencies across all reviews (exclude short tokens)\n",
    "\n",
    "all_words = [w for tokens in df['tokens'] for w in tokens if len(w) > 2]\n",
    "word_counts = Counter(all_words)\n",
    "most_common_words = word_counts.most_common(50)  # top 50 words"
   ]
  },
  {
   "cell_type": "markdown",
   "id": "3a7cd1f3-39ab-4da6-8b23-ec3e0d0a9342",
   "metadata": {},
   "source": [
    "1 . all_words = [w for tokens in df['tokens'] for w in tokens if len(w) > 2]\n",
    "\n",
    "* This is a list comprehension that flattens the list-of-lists into one big word list.\n",
    "\n",
    "* if len(w) > 2 filters out very short tokens like \"a\", \"to\", \"is\" — removes noisy one/two-letter tokens.\n",
    "\n",
    "* Why: reduces noise; one-letter words usually not meaningful as keywords.\n",
    "\n",
    "2 . word_counts = Counter(all_words)\n",
    "\n",
    "* Counter counts occurrences of each word and stores frequency mapping: {'delicious': 120, 'good': 300, ...}\n",
    "\n",
    "* Why: fast and convenient to get counts and most_common().\n",
    "\n",
    "3 . most_common_words = word_counts.most_common(50)\n",
    "\n",
    "* Returns top 50 frequent words as (word, count) tuples.\n",
    "\n",
    "* Why: quick summary of most frequent tokens in reviews."
   ]
  },
  {
   "cell_type": "code",
   "execution_count": 14,
   "id": "fbbcbde1-9ecd-4b43-8e36-11db772061dc",
   "metadata": {},
   "outputs": [
    {
     "name": "stdout",
     "output_type": "stream",
     "text": [
      "Requirement already satisfied: textblob in /opt/anaconda3/lib/python3.13/site-packages (0.19.0)\n",
      "Requirement already satisfied: nltk>=3.9 in /opt/anaconda3/lib/python3.13/site-packages (from textblob) (3.9.1)\n",
      "Requirement already satisfied: click in /opt/anaconda3/lib/python3.13/site-packages (from nltk>=3.9->textblob) (8.1.8)\n",
      "Requirement already satisfied: joblib in /opt/anaconda3/lib/python3.13/site-packages (from nltk>=3.9->textblob) (1.4.2)\n",
      "Requirement already satisfied: regex>=2021.8.3 in /opt/anaconda3/lib/python3.13/site-packages (from nltk>=3.9->textblob) (2024.11.6)\n",
      "Requirement already satisfied: tqdm in /opt/anaconda3/lib/python3.13/site-packages (from nltk>=3.9->textblob) (4.67.1)\n",
      "[nltk_data] Downloading package brown to\n",
      "[nltk_data]     /Users/b.tejateja/nltk_data...\n",
      "[nltk_data]   Package brown is already up-to-date!\n",
      "[nltk_data] Downloading package punkt_tab to\n",
      "[nltk_data]     /Users/b.tejateja/nltk_data...\n",
      "[nltk_data]   Package punkt_tab is already up-to-date!\n",
      "[nltk_data] Downloading package wordnet to\n",
      "[nltk_data]     /Users/b.tejateja/nltk_data...\n",
      "[nltk_data]   Package wordnet is already up-to-date!\n",
      "[nltk_data] Downloading package averaged_perceptron_tagger_eng to\n",
      "[nltk_data]     /Users/b.tejateja/nltk_data...\n",
      "[nltk_data]   Package averaged_perceptron_tagger_eng is already up-to-\n",
      "[nltk_data]       date!\n",
      "[nltk_data] Downloading package conll2000 to\n",
      "[nltk_data]     /Users/b.tejateja/nltk_data...\n",
      "[nltk_data]   Package conll2000 is already up-to-date!\n",
      "[nltk_data] Downloading package movie_reviews to\n",
      "[nltk_data]     /Users/b.tejateja/nltk_data...\n",
      "[nltk_data]   Package movie_reviews is already up-to-date!\n",
      "Finished.\n"
     ]
    }
   ],
   "source": [
    "!pip install textblob\n",
    "!python -m textblob.download_corpora"
   ]
  },
  {
   "cell_type": "code",
   "execution_count": 17,
   "id": "6a1a18c6-b4e7-4c0d-b8c1-54d1c841a703",
   "metadata": {},
   "outputs": [],
   "source": [
    "from textblob import TextBlob"
   ]
  },
  {
   "cell_type": "code",
   "execution_count": 18,
   "id": "341cc471-e042-420d-b462-b37e0acc5aae",
   "metadata": {},
   "outputs": [],
   "source": [
    "# Score each unique word with TextBlob polarity and classify positive/negative .\n",
    "\n",
    "word_sentiments = {}\n",
    "for word in list(word_counts.keys()):\n",
    "    tb = TextBlob(word)\n",
    "    polarity = tb.sentiment.polarity\n",
    "    word_sentiments[word] = polarity"
   ]
  },
  {
   "cell_type": "markdown",
   "id": "0ffbc566-c3f4-4308-bb09-9752ffd6cb35",
   "metadata": {},
   "source": [
    "1 . word_sentiments = {} — initialize an empty dict to store each word's polarity.\n",
    "\n",
    "2 . for word in list(word_counts.keys()): — iterate through unique words (keys of Counter).\n",
    "\n",
    "* list() ensures we iterate over a stable list (not necessary but safe).\n",
    "\n",
    "3 . tb = TextBlob(word) — create a TextBlob object for the single word.\n",
    "\n",
    "* Why: TextBlob computes sentiment polarity from text. Even a single word gets a polarity score (e.g., \"delicious\" -> positive).\n",
    "\n",
    "4 . polarity = tb.sentiment.polarity — get polarity, float between -1 (very negative) and +1 (very positive).\n",
    "\n",
    "5 . word_sentiments[word] = polarity — store polarity in a dict keyed by word.\n",
    "\n",
    "Why do this per word?\n",
    "\n",
    "* We need to identify common positive and negative keywords. Polarity scores let us classify words as positive or negative automatically without manually building a lexicon.\n",
    "\n",
    "Note: Single-word sentiment is coarse; TextBlob uses a lexicon-based approach, so it works fine for common adjectives like \"delicious\", \"bad\", \"slow\"."
   ]
  },
  {
   "cell_type": "code",
   "execution_count": 19,
   "id": "cdd9e123-72c8-4064-8811-ca13290d3c96",
   "metadata": {},
   "outputs": [],
   "source": [
    "# Separate positive and negative words using polarity thresholds.\n",
    "\n",
    "POS_THRESHOLD = 0.3\n",
    "NEG_THRESHOLD = -0.3"
   ]
  },
  {
   "cell_type": "code",
   "execution_count": 20,
   "id": "657a738a-219f-4cbe-a4ab-5cfe9d19f921",
   "metadata": {},
   "outputs": [],
   "source": [
    "positive_words = [(w, count, word_sentiments[w]) for w, count in word_counts.items() if word_sentiments[w] > POS_THRESHOLD]\n",
    "negative_words = [(w, count, word_sentiments[w]) for w, count in word_counts.items() if word_sentiments[w] < NEG_THRESHOLD]"
   ]
  },
  {
   "cell_type": "markdown",
   "id": "f85480c4-f5b3-4c4d-93c0-227a4929ee8d",
   "metadata": {},
   "source": [
    "1 . POS_THRESHOLD and NEG_THRESHOLD are constants we choose to say when a word is \"clearly positive\" (> 0.3) or \"clearly negative\" (< -0.3).\n",
    "\n",
    "* Why thresholds? Polarity values near 0 are neutral — we only want clearly positive/negative words.\n",
    "\n",
    "* positive_words = [...] builds a list of tuples (word, count, polarity) for words whose polarity exceeds the positive threshold.\n",
    "\n",
    "* negative_words = [...] similarly for negative words below the negative threshold.\n",
    "\n",
    "* Why include counts and polarity?\n",
    "\n",
    "* Count tells how frequent the word is in reviews (importance).\n",
    "\n",
    "* Polarity tells the sentiment strength."
   ]
  },
  {
   "cell_type": "code",
   "execution_count": 21,
   "id": "7111f841-4d86-44ee-9d27-de5966daeb28",
   "metadata": {},
   "outputs": [],
   "source": [
    "# Sort by frequency\n",
    "\n",
    "positive_words_sorted = sorted(positive_words, key=lambda x: x[1], reverse=True)[:20]\n",
    "negative_words_sorted = sorted(negative_words, key=lambda x: x[1], reverse=True)[:20]"
   ]
  },
  {
   "cell_type": "markdown",
   "id": "254b99cf-add9-416e-b974-3bcff843d07d",
   "metadata": {},
   "source": [
    "* sorted(..., key=lambda x: x[1], reverse=True) sorts tuples by the count element (index 1) in descending order.\n",
    "\n",
    "* [:20] slices to keep the top 20 most frequent positive/negative words.\n",
    "\n",
    "* Why: gives you the most relevant common keywords (both sentiment and prevalence)."
   ]
  },
  {
   "cell_type": "code",
   "execution_count": 22,
   "id": "d7e906ff-3e09-4a5b-a099-9f25882e11dc",
   "metadata": {},
   "outputs": [],
   "source": [
    "# Average review length (in words).\n",
    "\n",
    "df['review_length'] = df['tokens'].apply(len)\n",
    "average_length = df['review_length'].mean().round(2)"
   ]
  },
  {
   "cell_type": "markdown",
   "id": "f1507ffc-57f1-4421-b684-cb687a9be64b",
   "metadata": {},
   "source": [
    "1 . df['tokens'].apply(len) — for each token list, compute its length (number of words in the review).\n",
    "\n",
    "* Why: review length measured in words is a simple and informative metric.\n",
    "\n",
    "2 . df['review_length'] = ... — stores word counts per review.\n",
    "\n",
    "3 . df['review_length'].mean() — computes the mean (average) across all reviews.\n",
    "\n",
    "4 . .round(2) — rounds to two decimals for readability.\n",
    "\n",
    "* Why average review length?\n",
    "\n",
    "* Helps compare how verbose reviewers are. Combined with sentiment or rating, it can show if longer reviews correlate with stronger feelings."
   ]
  },
  {
   "cell_type": "code",
   "execution_count": 23,
   "id": "876de576-4329-4fed-879c-0afadfb597d5",
   "metadata": {},
   "outputs": [],
   "source": [
    "# Relationship between review length and numeric rating (if available).\n",
    "\n",
    "rating_col = None\n",
    "if 'aggregate rating' in df.columns:\n",
    "    rating_col = 'aggregate rating'\n",
    "elif 'rating' in df.columns:\n",
    "    rating_col = 'rating'\n",
    "    \n",
    "if rating_col is not None:\n",
    "    # Ensure rating is numeric\n",
    "    df[rating_col] = pd.to_numeric(df[rating_col], errors='coerce').fillna(0)\n",
    "    corr = df['review_length'].corr(df[rating_col]).round(2)\n",
    "else:\n",
    "    corr = None"
   ]
  },
  {
   "cell_type": "markdown",
   "id": "62cc8c87-fc5f-453a-a905-06f1fe61b33c",
   "metadata": {},
   "source": [
    "* We try to find a column for numeric rating:\n",
    "\n",
    "* First preference: 'aggregate rating' (common in your dataset).\n",
    "\n",
    "* Fallback: 'rating'.\n",
    "\n",
    "* If found:\n",
    "\n",
    "* pd.to_numeric(df[rating_col], errors='coerce') attempts to convert the rating column to numeric type.\n",
    "\n",
    "* errors='coerce' will convert non-numeric values to NaN.\n",
    "\n",
    "* Why: ratings can sometimes have stray strings; this ensures a numeric column for correlation.\n",
    "\n",
    "* .fillna(0) replaces NaN with 0. (Optionally you might prefer to drop NaNs; filling is a simple, safe default.)\n",
    "\n",
    "* df['review_length'].corr(df[rating_col]) computes the Pearson correlation coefficient between review length and rating.\n",
    "\n",
    "* Why Pearson correlation? It's the standard measure for linear association between two numeric variables.\n",
    "\n",
    "* .round(2) keeps two decimals.\n",
    "\n",
    "* If no rating column exists, corr = None and we skip correlation.\n",
    "\n",
    "##### Important note about correlation interpretation:\n",
    "\n",
    "* A value near 0 = no linear relationship\n",
    "\n",
    "1 . Positive = longer reviews associated with higher ratings\n",
    "\n",
    "2 . Negative = longer reviews associated with lower ratings\n",
    "\n",
    "3 . Correlation does not imply causation."
   ]
  },
  {
   "cell_type": "code",
   "execution_count": 24,
   "id": "7271dd4d-23fc-4453-9653-13d02579d798",
   "metadata": {},
   "outputs": [
    {
     "name": "stdout",
     "output_type": "stream",
     "text": [
      "Top positive keywords (word, count, polarity):\n",
      "good                   3179   polarity=0.70\n",
      "excellent               301   polarity=1.00\n"
     ]
    }
   ],
   "source": [
    "#  Print results.\n",
    "\n",
    "print(\"Top positive keywords (word, count, polarity):\")\n",
    "for w,c,p in positive_words_sorted:\n",
    "    print(f\"{w:20s} {c:6d}   polarity={p:.2f}\")"
   ]
  },
  {
   "cell_type": "code",
   "execution_count": 25,
   "id": "31f6060e-5b68-486f-8921-78c242211db4",
   "metadata": {},
   "outputs": [
    {
     "name": "stdout",
     "output_type": "stream",
     "text": [
      "\n",
      "Top negative keywords (word, count, polarity):\n",
      "poor                    186   polarity=-0.40\n"
     ]
    }
   ],
   "source": [
    "print(\"\\nTop negative keywords (word, count, polarity):\")\n",
    "for w,c,p in negative_words_sorted:\n",
    "    print(f\"{w:20s} {c:6d}   polarity={p:.2f}\")"
   ]
  },
  {
   "cell_type": "code",
   "execution_count": 26,
   "id": "ff2e1ae6-f9bb-494a-addf-51e3a6b2d1b0",
   "metadata": {},
   "outputs": [
    {
     "name": "stdout",
     "output_type": "stream",
     "text": [
      "\n",
      "Average review length (words): 1.34\n",
      "Correlation between review length and rating: -0.6\n"
     ]
    }
   ],
   "source": [
    "print(f\"\\nAverage review length (words): {average_length}\")\n",
    "if corr is not None:\n",
    "    print(f\"Correlation between review length and rating: {corr}\")\n",
    "else:\n",
    "    print(\"No numeric rating column found to compute correlation.\")"
   ]
  },
  {
   "cell_type": "markdown",
   "id": "e9aeef14-6619-4542-84e7-ec22bc519b26",
   "metadata": {},
   "source": [
    "#### Nicely formatted print outputs:\n",
    "\n",
    "* Header line for positive keywords.\n",
    "\n",
    "* Loop for w,c,p in positive_words_sorted: prints each word (w), its count (c) and polarity (p).\n",
    "\n",
    "* f\"{w:20s} {c:6d} polarity={p:.2f}\" is a formatted string:\n",
    "\n",
    "* {w:20s} — left-pad/limit the word cell to width 20 characters (for alignment).\n",
    "\n",
    "* {c:6d} — 6-character integer for count (right-aligned).\n",
    "\n",
    "* {p:.2f} — polarity rounded to 2 decimals.\n",
    "\n",
    "* Same loop for negative keywords.\n",
    "\n",
    "* Print average review length.\n",
    "\n",
    "* If correlation exists, print it; otherwise say we couldn't compute.\n",
    "\n",
    "* Why this format?\n",
    "\n",
    "* Readable console output. Good for showing results in a notebook and copying into your report."
   ]
  },
  {
   "cell_type": "markdown",
   "id": "6ece495e-ffc0-40c5-abda-483133a021e5",
   "metadata": {},
   "source": [
    "## TASK 2 : Votes Analysis "
   ]
  },
  {
   "cell_type": "code",
   "execution_count": 27,
   "id": "51f69daf-389f-493a-9182-bb4302925635",
   "metadata": {},
   "outputs": [],
   "source": [
    "# Top & Bottom Restaurants by Votes.\n",
    "\n",
    "top_votes = df.loc[df['votes'].idxmax()]\n",
    "low_votes = df.loc[df['votes'].idxmin()]"
   ]
  },
  {
   "cell_type": "code",
   "execution_count": 28,
   "id": "f752f97a-7e9a-4300-8912-9c9491a6b4d4",
   "metadata": {},
   "outputs": [
    {
     "name": "stdout",
     "output_type": "stream",
     "text": [
      "Restaurant with Highest Votes:\n",
      "restaurant name      Toit\n",
      "votes               10934\n",
      "aggregate rating      4.8\n",
      "Name: 728, dtype: object \n",
      "\n"
     ]
    }
   ],
   "source": [
    "print(\"Restaurant with Highest Votes:\")\n",
    "print(top_votes[['restaurant name', 'votes', 'aggregate rating']], \"\\n\")"
   ]
  },
  {
   "cell_type": "code",
   "execution_count": 29,
   "id": "3b4bb02d-358b-47f7-b1dc-c4fee3216dc0",
   "metadata": {},
   "outputs": [
    {
     "name": "stdout",
     "output_type": "stream",
     "text": [
      "Restaurant with Lowest Votes:\n",
      "restaurant name     Cantinho da Gula\n",
      "votes                              0\n",
      "aggregate rating                 0.0\n",
      "Name: 69, dtype: object \n",
      "\n"
     ]
    }
   ],
   "source": [
    "print(\"Restaurant with Lowest Votes:\")\n",
    "print(low_votes[['restaurant name', 'votes', 'aggregate rating']], \"\\n\")"
   ]
  },
  {
   "cell_type": "code",
   "execution_count": 30,
   "id": "266a2fc4-0c2b-43cc-a171-cd89642fe599",
   "metadata": {},
   "outputs": [
    {
     "name": "stdout",
     "output_type": "stream",
     "text": [
      "Correlation between votes and rating: 0.31\n"
     ]
    }
   ],
   "source": [
    "# Correlation between votes and rating.\n",
    "\n",
    "corr = df['votes'].corr(df['aggregate rating']).round(2)\n",
    "print(f\"Correlation between votes and rating: {corr}\")"
   ]
  },
  {
   "cell_type": "code",
   "execution_count": 31,
   "id": "51721d3e-4c4b-46be-abb1-9c939b0fbc40",
   "metadata": {},
   "outputs": [
    {
     "data": {
      "image/png": "[encoded data removed]",
      "text/plain": [
       "<Figure size 640x480 with 1 Axes>"
      ]
     },
     "metadata": {},
     "output_type": "display_data"
    }
   ],
   "source": [
    "# Visualization.\n",
    "\n",
    "plt.scatter(df['votes'], df['aggregate rating'], alpha=0.5, color='teal')\n",
    "plt.title(\"Votes vs Rating\")\n",
    "plt.xlabel(\"Number of Votes\")\n",
    "plt.ylabel(\"Aggregate Rating\")\n",
    "plt.show()"
   ]
  },
  {
   "cell_type": "markdown",
   "id": "31855d5b-f96f-4189-939e-bbfc90d9f3e1",
   "metadata": {},
   "source": [
    "1 . idxmax() / idxmin() → find the row index of highest/lowest votes.\n",
    "\n",
    "* Top & bottom restaurants → show who got the most and least votes.\n",
    "\n",
    "2 . corr() → checks how votes and ratings move together.\n",
    "\n",
    "* Positive value → more votes = higher ratings.\n",
    "\n",
    "* Near 0 → no clear link.\n",
    "\n",
    "3 . Scatter plot → shows relationship visually (each dot = restaurant)."
   ]
  },
  {
   "cell_type": "markdown",
   "id": "ba2cc458-08c4-4caa-8067-8d9ea706fddf",
   "metadata": {},
   "source": [
    "### TASK 3 : Price range vs Online Delivery and Table Booking "
   ]
  },
  {
   "cell_type": "code",
   "execution_count": 35,
   "id": "dbced632-d858-4651-b454-6d70b1582e10",
   "metadata": {},
   "outputs": [],
   "source": [
    "# Group by price range and calculate percentages.\n",
    "\n",
    "price_delivery = df.groupby('price range')['has online delivery'].value_counts(normalize=True).unstack().fillna(0) * 100\n",
    "price_booking = df.groupby('price range')['has table booking'].value_counts(normalize=True).unstack().fillna(0) * 100"
   ]
  },
  {
   "cell_type": "code",
   "execution_count": 36,
   "id": "3bc8335c-6982-4441-9d85-094b6bac882c",
   "metadata": {},
   "outputs": [
    {
     "name": "stdout",
     "output_type": "stream",
     "text": [
      "Online Delivery by Price Range (%):\n",
      " has online delivery         No        Yes\n",
      "price range                              \n",
      "1                    84.225923  15.774077\n",
      "2                    58.689367  41.310633\n",
      "3                    70.809659  29.190341\n",
      "4                    90.955631   9.044369 \n",
      "\n",
      "Table Booking by Price Range (%):\n",
      " has table booking         No        Yes\n",
      "price range                            \n",
      "1                  99.977498   0.022502\n",
      "2                  92.322518   7.677482\n",
      "3                  54.261364  45.738636\n",
      "4                  53.242321  46.757679 \n",
      "\n"
     ]
    }
   ],
   "source": [
    "print(\"Online Delivery by Price Range (%):\\n\", price_delivery, \"\\n\")\n",
    "print(\"Table Booking by Price Range (%):\\n\", price_booking, \"\\n\")"
   ]
  },
  {
   "cell_type": "code",
   "execution_count": 37,
   "id": "78c9437f-20e2-4dc9-a7d6-d065f1eb8cff",
   "metadata": {},
   "outputs": [
    {
     "data": {
      "image/png": "[encoded data removed]",
      "text/plain": [
       "<Figure size 1200x500 with 2 Axes>"
      ]
     },
     "metadata": {},
     "output_type": "display_data"
    }
   ],
   "source": [
    "# Visualization\n",
    "fig, axes = plt.subplots(1, 2, figsize=(12, 5))\n",
    "price_delivery.plot(kind='bar', ax=axes[0], title='Online Delivery by Price Range (%)')\n",
    "price_booking.plot(kind='bar', ax=axes[1], title='Table Booking by Price Range (%)')\n",
    "plt.tight_layout()\n",
    "plt.show()"
   ]
  },
  {
   "cell_type": "code",
   "execution_count": 38,
   "id": "5031cc3b-7e44-4084-9a9b-bb13af72f04e",
   "metadata": {},
   "outputs": [
    {
     "name": "stdout",
     "output_type": "stream",
     "text": [
      "Correlation (Price vs Online Delivery): 0.08\n",
      "Correlation (Price vs Table Booking): 0.5\n"
     ]
    }
   ],
   "source": [
    "# Interpretation helper: correlation with price\n",
    "delivery_corr = df['price range'].corr(df['has online delivery'].apply(lambda x: 1 if x == 'Yes' else 0)).round(2)\n",
    "booking_corr = df['price range'].corr(df['has table booking'].apply(lambda x: 1 if x == 'Yes' else 0)).round(2)\n",
    "\n",
    "print(f\"Correlation (Price vs Online Delivery): {delivery_corr}\")\n",
    "print(f\"Correlation (Price vs Table Booking): {booking_corr}\")"
   ]
  },
  {
   "cell_type": "markdown",
   "id": "c1a014d3-39fd-4f7c-bfce-0fb8aef866ea",
   "metadata": {},
   "source": [
    "##### Simple Explanation :\n",
    "\n",
    "* Groups restaurants by price range and checks how many offer online delivery or table booking.\n",
    "\n",
    "* Converts results into percentages to easily compare across price levels.\n",
    "\n",
    "* Plots bar charts to visualize the trend.\n",
    "\n",
    "* Calculates correlation to check relationship strength:\n",
    "\n",
    "1 . Positive correlation → higher price → more likely to offer service.\n",
    "\n",
    "2 . Negative → opposite."
   ]
  },
  {
   "cell_type": "code",
   "execution_count": null,
   "id": "2b912852-acdf-4631-962b-b8393ad423b6",
   "metadata": {},
   "outputs": [],
   "source": []
  }
 ],
 "metadata": {
  "kernelspec": {
   "display_name": "Python (tf_env)",
   "language": "python",
   "name": "tf_env"
  },
  "language_info": {
   "codemirror_mode": {
    "name": "ipython",
    "version": 3
   },
   "file_extension": ".py",
   "mimetype": "text/x-python",
   "name": "python",
   "nbconvert_exporter": "python",
   "pygments_lexer": "ipython3",
   "version": "3.13.5"
  }
 },
 "nbformat": 4,
 "nbformat_minor": 5
}
